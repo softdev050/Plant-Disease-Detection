{
 "cells": [
  {
   "cell_type": "code",
   "execution_count": 9,
   "metadata": {},
   "outputs": [],
   "source": [
    "#-----------------------------------\n",
    "# GLOBAL FEATURE EXTRACTION\n",
    "#-----------------------------------\n",
    "from sklearn.preprocessing import LabelEncoder\n",
    "from sklearn.preprocessing import MinMaxScaler\n",
    "import numpy as np\n",
    "# import mahotas\n",
    "import cv2\n",
    "import os\n",
    "import h5py\n",
    "# from sklearn.color import rgb2gray\n",
    "from scipy import ndimage\n",
    "\n",
    "#--------------------\n",
    "# tunable-parameters\n",
    "#--------------------\n",
    "images_per_class = 805\n",
    "fixed_size       = tuple((500, 500))\n",
    "train_path       = \"dataset/train\"\n",
    "h5_data          = 'output/data.h5'\n",
    "h5_labels        = 'output/labels.h5'"
   ]
  },
  {
   "cell_type": "code",
   "execution_count": 2,
   "metadata": {},
   "outputs": [],
   "source": [
    "# Average Blurring \n",
    "\n",
    "def Blur(image):\n",
    "    image=cv2.blur(img,(5,5))\n",
    "    return image"
   ]
  },
  {
   "cell_type": "code",
   "execution_count": 3,
   "metadata": {},
   "outputs": [],
   "source": [
    "# Converting to HSV \n",
    "\n",
    "def HSV_img(image):\n",
    "    image=cv2.cvtColor(img,cv2.COLOR_BGR2HSV)\n",
    "    return image"
   ]
  },
  {
   "cell_type": "code",
   "execution_count": 12,
   "metadata": {},
   "outputs": [
    {
     "ename": "SyntaxError",
     "evalue": "invalid syntax (<ipython-input-12-09e2cf06399d>, line 3)",
     "output_type": "error",
     "traceback": [
      "\u001b[0;36m  File \u001b[0;32m\"<ipython-input-12-09e2cf06399d>\"\u001b[0;36m, line \u001b[0;32m3\u001b[0m\n\u001b[0;31m    def segmentation:\u001b[0m\n\u001b[0m                    ^\u001b[0m\n\u001b[0;31mSyntaxError\u001b[0m\u001b[0;31m:\u001b[0m invalid syntax\n"
     ]
    }
   ],
   "source": [
    "# For Segmentation\n",
    "\n",
    "def segmentation:\n",
    "    pic_n = pic.reshape(pic.shape[0]*pic.shape[1], pic.shape[2])\n",
    "    pic_n.shape\n",
    "    kmeans = KMeans(n_clusters=30, random_state=0).fit(pic_n)\n",
    "    pic2show = kmeans.cluster_centers_[kmeans.labels_]\n",
    "    cluster_pic = pic2show.reshape(pic.shape[0], pic.shape[1], pic.shape[2])\n",
    "    return(cluster_pic)"
   ]
  },
  {
   "cell_type": "code",
   "execution_count": null,
   "metadata": {},
   "outputs": [],
   "source": []
  }
 ],
 "metadata": {
  "kernelspec": {
   "display_name": "Python 3",
   "language": "python",
   "name": "python3"
  },
  "language_info": {
   "codemirror_mode": {
    "name": "ipython",
    "version": 3
   },
   "file_extension": ".py",
   "mimetype": "text/x-python",
   "name": "python",
   "nbconvert_exporter": "python",
   "pygments_lexer": "ipython3",
   "version": "3.6.8"
  }
 },
 "nbformat": 4,
 "nbformat_minor": 2
}
